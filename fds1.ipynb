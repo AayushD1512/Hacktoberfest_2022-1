{
 "cells": [
  {
   "cell_type": "code",
   "execution_count": null,
   "metadata": {
    "colab": {
     "base_uri": "https://localhost:8080/"
    },
    "id": "ibxpxO7yEfLf",
    "outputId": "3a4901f6-09da-4896-d8af-89be14f7b610"
   },
   "outputs": [
    {
     "name": "stdout",
     "output_type": "stream",
     "text": [
      "30\n",
      "c\n"
     ]
    }
   ],
   "source": [
    "a = 10\n",
    "b = 20\n",
    "c = a + b\n",
    "print(c)\n",
    "print(\"c\")"
   ]
  },
  {
   "cell_type": "markdown",
   "metadata": {
    "id": "pVTMYp4eWlAA"
   },
   "source": [
    "In python we can use variables directly without declaration\n",
    "In the given program\n",
    "a = 10 creates a variable named a with value 10,\n",
    "b = 20 creates a variable named b with value 20,\n",
    "c = a + b creates a variable named c with value a + b i.e 10 + 20 i.e 30\n"
   ]
  },
  {
   "cell_type": "code",
   "execution_count": null,
   "metadata": {
    "colab": {
     "base_uri": "https://localhost:8080/"
    },
    "id": "M3-qhA-rXAqL",
    "outputId": "be3b4a41-5dc4-43a7-8276-caacc678460b"
   },
   "outputs": [
    {
     "name": "stdout",
     "output_type": "stream",
     "text": [
      "<class 'int'>\n",
      "<class 'float'>\n",
      "<class 'str'>\n",
      "<class 'bool'>\n",
      "<class 'list'>\n",
      "<class 'tuple'>\n"
     ]
    }
   ],
   "source": [
    "a = 10\n",
    "print (type (a))\n",
    "a = 10.5\n",
    "print (type (a))\n",
    "a ='Dharmanshu'\n",
    "print (type (a))\n",
    "a = True\n",
    "print (type (a))\n",
    "a = [10,20,30]\n",
    "print (type (a))\n",
    "a = (10,20,30)\n",
    "print (type (a))"
   ]
  },
  {
   "cell_type": "markdown",
   "metadata": {
    "id": "VsBI-YuYYP1n"
   },
   "source": [
    "Every Variable in python has a datatype,various datatype in python are:-int,float,str,bool,list,tuple,set,dict\n"
   ]
  },
  {
   "cell_type": "code",
   "execution_count": null,
   "metadata": {
    "colab": {
     "base_uri": "https://localhost:8080/"
    },
    "id": "Kpad0cf3Y5eb",
    "outputId": "650320a0-2830-4be1-dca3-edb8b89e8775"
   },
   "outputs": [
    {
     "name": "stdout",
     "output_type": "stream",
     "text": [
      "sum of 10 and 20 = 30\n",
      "sum of 10 and 20 is 30\n"
     ]
    }
   ],
   "source": [
    "a = 10\n",
    "b = 20\n",
    "c = a + b\n",
    "print(\"sum of\",a,\"and\",b,\"=\",c)\n",
    "print(\"sum of {} and {} is {}\".format(a,b,c))"
   ]
  },
  {
   "cell_type": "code",
   "execution_count": null,
   "metadata": {
    "colab": {
     "base_uri": "https://localhost:8080/"
    },
    "id": "FhRk3MUhZQju",
    "outputId": "742d8809-e292-46c1-944c-9477b2ab5ec9"
   },
   "outputs": [
    {
     "name": "stdout",
     "output_type": "stream",
     "text": [
      "Enter first number10\n",
      "Enter second number20\n",
      "sum of 10 and 20 is 30\n"
     ]
    }
   ],
   "source": [
    "a = input(\"Enter first number\")\n",
    "b = input(\"Enter second number\")\n",
    "a = int(a)\n",
    "b = int(b)\n",
    "c = a + b\n",
    "print(\"sum of {} and {} is {}\".format(a,b,c))"
   ]
  },
  {
   "cell_type": "code",
   "execution_count": null,
   "metadata": {
    "colab": {
     "base_uri": "https://localhost:8080/"
    },
    "id": "zfptUlhMaDAk",
    "outputId": "82273dd8-2828-4392-cb19-a0cf8219d68c"
   },
   "outputs": [
    {
     "name": "stdout",
     "output_type": "stream",
     "text": [
      "enter radius   3.15\n",
      "area of circle = 31.15665\n"
     ]
    }
   ],
   "source": [
    "#Area of Circle\n",
    "r = input(\"enter radius\")\n",
    "r = float(r) #can also use int(r) for integer value\n",
    "Area = 3.14*r*r\n",
    "print(\"area of circle = {}\".format(Area))"
   ]
  },
  {
   "cell_type": "code",
   "execution_count": null,
   "metadata": {
    "colab": {
     "base_uri": "https://localhost:8080/"
    },
    "id": "FxHPovtYbTTd",
    "outputId": "5ecba8d1-8240-4a81-f920-69f89582955d"
   },
   "outputs": [
    {
     "name": "stdout",
     "output_type": "stream",
     "text": [
      "Base of triangle   10\n",
      "Height of triangle  4\n",
      "Area of triangle = 20.0\n"
     ]
    }
   ],
   "source": [
    "#Area of traingle\n",
    "b = input(\"Base of triangle\")\n",
    "h = input(\"Height of triangle\")\n",
    "b = int(b)\n",
    "h = int(h)\n",
    "Area = 0.5 * b * h\n",
    "print (\"Area of triangle = {}\".format(Area))"
   ]
  },
  {
   "cell_type": "code",
   "execution_count": null,
   "metadata": {
    "colab": {
     "base_uri": "https://localhost:8080/"
    },
    "id": "JCcFuXZ9eOmg",
    "outputId": "79d48e37-6b33-4b6c-dc3b-699fd359c475"
   },
   "outputs": [
    {
     "name": "stdout",
     "output_type": "stream",
     "text": [
      "coordinate (x1)  10\n",
      "coordinate (x2)  8\n",
      "coordinate (y1)  6\n",
      "coordinate (y2)  4\n",
      "slope of line =1.0\n"
     ]
    }
   ],
   "source": [
    "#Slope of a line\n",
    "a = input(\"coordinate (x1)\")\n",
    "b = input(\"coordinate (x2)\")\n",
    "c = input(\"coordinate (y1)\")\n",
    "d = input(\"coordinate (y2)\")\n",
    "a = int(a) #can also use float(a)\n",
    "b = int(b)\n",
    "c = int(c)\n",
    "d = int(d)\n",
    "Slope = (d-c)/(b-a)\n",
    "print(\"slope of line ={}\".format(Slope))"
   ]
  },
  {
   "cell_type": "code",
   "execution_count": null,
   "metadata": {
    "colab": {
     "base_uri": "https://localhost:8080/"
    },
    "id": "m3r4sd3Yh0ZT",
    "outputId": "c62031aa-bcca-4b8f-ce68-308d243576f4"
   },
   "outputs": [
    {
     "name": "stdout",
     "output_type": "stream",
     "text": [
      "coordinate (x1)  10\n",
      "coordinate (x2)  8\n",
      "coordinate (y1)  6\n",
      "coordinate (y2)  4\n",
      "length of line =2.8284271247461903\n"
     ]
    }
   ],
   "source": [
    "#length of line\n",
    "import math\n",
    "a = input(\"coordinate (x1)\")\n",
    "b = input(\"coordinate (x2)\")\n",
    "c = input(\"coordinate (y1)\")\n",
    "d = input(\"coordinate (y2)\")\n",
    "a = int(a) #can also use float(a)\n",
    "b = int(b)\n",
    "c = int(c)\n",
    "d = int(d)\n",
    "Line = math.sqrt((d-c)*(d-c)+(b-a)*(b-a))\n",
    "print(\"length of line ={}\".format(Line))"
   ]
  },
  {
   "cell_type": "markdown",
   "metadata": {
    "id": "Tt1JOtOHpOi8"
   },
   "source": [
    "BODMASS  rule is followed for mathematical operations ,B - Brackets, O - Order of powers or roots, D - Division, M - Multiplication A - Addition, and S - Subtraction."
   ]
  },
  {
   "cell_type": "code",
   "execution_count": null,
   "metadata": {
    "colab": {
     "base_uri": "https://localhost:8080/"
    },
    "id": "_lohyajNmMK_",
    "outputId": "1bd2b06d-60f7-40da-c2e8-385d818bff73"
   },
   "outputs": [
    {
     "name": "stdout",
     "output_type": "stream",
     "text": [
      "coordinate (x1)  1\n",
      "coordinate (x2)  2\n",
      "coordinate (x3)  -5\n",
      "coordinate (y1)  4\n",
      "coordinate (y2)  3\n",
      "coordinate (y3)  -3\n",
      "Area of triangle =6.5\n"
     ]
    }
   ],
   "source": [
    "#input coordinates of 3 points of triangle and find its area\n",
    "import math\n",
    "a = input(\"coordinate (x1)\")\n",
    "b = input(\"coordinate (x2)\")\n",
    "c = input(\"coordinate (x3)\")\n",
    "d = input(\"coordinate (y1)\")\n",
    "e = input(\"coordinate (y2)\")\n",
    "f = input(\"coordinate (y3)\")\n",
    "a = int(a) #can also use float(a)\n",
    "b = int(b)\n",
    "c = int(c)\n",
    "d = int(d) \n",
    "e = int(e) \n",
    "f = int(f) \n",
    "Area = abs(0.5*(a*(e-f)+b*(f-d)+c*(d-e)))\n",
    "print(\"Area of triangle ={}\".format(Area))"
   ]
  },
  {
   "cell_type": "code",
   "execution_count": null,
   "metadata": {
    "colab": {
     "base_uri": "https://localhost:8080/"
    },
    "id": "1eoH2_i9vJFH",
    "outputId": "a82650d1-1142-421e-a126-8d19fd5464d2"
   },
   "outputs": [
    {
     "name": "stdout",
     "output_type": "stream",
     "text": [
      "1\n",
      "hello\n",
      "2\n",
      "hello\n",
      "3\n",
      "hello\n",
      "4\n",
      "hello\n",
      "5\n",
      "hello\n",
      "6\n",
      "hello\n",
      "7\n",
      "hello\n",
      "8\n",
      "hello\n",
      "9\n",
      "hello\n",
      "10\n",
      "hello\n",
      "end for loop\n"
     ]
    }
   ],
   "source": [
    "#for loop\n",
    "for x in range (1,11):\n",
    "  print(x)\n",
    "  print('hello')\n",
    "print(\"end for loop\")"
   ]
  },
  {
   "cell_type": "code",
   "execution_count": null,
   "metadata": {
    "colab": {
     "base_uri": "https://localhost:8080/"
    },
    "id": "JxhKyvsk9ip8",
    "outputId": "a13f134d-a1f3-47fb-85d6-e1344145d4f4"
   },
   "outputs": [
    {
     "name": "stdout",
     "output_type": "stream",
     "text": [
      "1 2 3 4 5 6 7 8 9 10 \n",
      "\n",
      "hello\n"
     ]
    }
   ],
   "source": [
    "#for loop\n",
    "for x in range (1,11):\n",
    "  print(x,end = \" \")\n",
    "print(\"\\n\")\n",
    "print(\"hello\")  "
   ]
  },
  {
   "cell_type": "code",
   "execution_count": null,
   "metadata": {
    "colab": {
     "base_uri": "https://localhost:8080/"
    },
    "id": "46v29kmW-LUz",
    "outputId": "b3ebb9e4-7bc9-450c-f16b-83b6c87df0b9"
   },
   "outputs": [
    {
     "name": "stdout",
     "output_type": "stream",
     "text": [
      "11   15\n",
      "12   16\n",
      "13   17\n",
      "14   18\n",
      "15   19\n",
      "16   20\n"
     ]
    }
   ],
   "source": [
    "#for loop\n",
    "for x in range (11,17):\n",
    "  print(x , \" \" , x+4)"
   ]
  },
  {
   "cell_type": "code",
   "execution_count": null,
   "metadata": {
    "colab": {
     "base_uri": "https://localhost:8080/"
    },
    "id": "TgCV5kJpAStB",
    "outputId": "29cb2185-2161-4b83-f942-0b26adbe4828"
   },
   "outputs": [
    {
     "name": "stdout",
     "output_type": "stream",
     "text": [
      "1 3 5 7 9 "
     ]
    }
   ],
   "source": [
    "#for loop\n",
    "for x in range (1,11,2):\n",
    "  print(x,end = \" \")"
   ]
  },
  {
   "cell_type": "code",
   "execution_count": null,
   "metadata": {
    "colab": {
     "base_uri": "https://localhost:8080/"
    },
    "id": "yGtFg-VhB0sk",
    "outputId": "63dc8ed8-be39-44ae-f3d5-f5f7dae4979e"
   },
   "outputs": [
    {
     "name": "stdout",
     "output_type": "stream",
     "text": [
      "10 9 8 7 6 5 4 3 2 1 "
     ]
    }
   ],
   "source": [
    "#for loop\n",
    "for x in range (10,0,-1,):\n",
    "  print(x , end = \" \")"
   ]
  },
  {
   "cell_type": "code",
   "execution_count": null,
   "metadata": {
    "colab": {
     "base_uri": "https://localhost:8080/"
    },
    "id": "31ZrntIJJY2H",
    "outputId": "b59d7081-7709-4be1-c27a-c17294b8fd46"
   },
   "outputs": [
    {
     "name": "stdout",
     "output_type": "stream",
     "text": [
      "sum = 55\n"
     ]
    }
   ],
   "source": [
    "#for loop\n",
    "s = 0\n",
    "for x in range (1,11):\n",
    "  s = s+x\n",
    "print(\"sum =\", s)"
   ]
  },
  {
   "cell_type": "code",
   "execution_count": null,
   "metadata": {
    "colab": {
     "base_uri": "https://localhost:8080/"
    },
    "id": "aeesjLOCL453",
    "outputId": "9f152729-8125-4cf7-e4e2-fde62eca9470"
   },
   "outputs": [
    {
     "name": "stdout",
     "output_type": "stream",
     "text": [
      "value of n = 100\n",
      "sum = 5050\n"
     ]
    }
   ],
   "source": [
    "#for loop\n",
    "n = input(\"value of n =\")\n",
    "n = int(n)\n",
    "s = 0\n",
    "for x in range (1,n+1):\n",
    "  s = s+x\n",
    "print(\"sum =\", s)"
   ]
  },
  {
   "cell_type": "code",
   "execution_count": null,
   "metadata": {
    "colab": {
     "base_uri": "https://localhost:8080/"
    },
    "id": "zBjLHx_f1fzE",
    "outputId": "9c20c8cb-0a4a-4c29-be99-e0f1b6f44733"
   },
   "outputs": [
    {
     "name": "stdout",
     "output_type": "stream",
     "text": [
      "1 2 3 4 5 6 7 8 9 10 "
     ]
    }
   ],
   "source": [
    "#while loop ,print numbers from 1 to 10\n",
    "x =0\n",
    "while(x<10):\n",
    "  x=x+1\n",
    "  print(x,end = \" \")"
   ]
  },
  {
   "cell_type": "code",
   "execution_count": null,
   "metadata": {
    "colab": {
     "base_uri": "https://localhost:8080/"
    },
    "id": "F7w5YYef79RF",
    "outputId": "9d2074ed-c045-4e05-f72a-270116180a6b"
   },
   "outputs": [
    {
     "name": "stdout",
     "output_type": "stream",
     "text": [
      "1 2 3 4 5 6 7 8 9 10 "
     ]
    }
   ],
   "source": [
    "x =1\n",
    "while x<=10:\n",
    "  print(x,end=\" \")\n",
    "  x=x+1"
   ]
  },
  {
   "cell_type": "code",
   "execution_count": null,
   "metadata": {
    "colab": {
     "base_uri": "https://localhost:8080/"
    },
    "id": "EsBexMH7ojkw",
    "outputId": "5587c54e-a55e-4243-98f6-9563154b3a7b"
   },
   "outputs": [
    {
     "name": "stdout",
     "output_type": "stream",
     "text": [
      "1 3 5 7 9 "
     ]
    }
   ],
   "source": [
    "#print all odd numbers between 1 to 10\n",
    "x = 1\n",
    "while(x<=9):\n",
    "  print(x,end = \" \")\n",
    "  x=x+2"
   ]
  },
  {
   "cell_type": "code",
   "execution_count": null,
   "metadata": {
    "colab": {
     "base_uri": "https://localhost:8080/"
    },
    "id": "-ZGB0Gj-pfaJ",
    "outputId": "12121bc1-4d9a-4a90-e0d8-4722e537be1b"
   },
   "outputs": [
    {
     "name": "stdout",
     "output_type": "stream",
     "text": [
      "10 9 8 7 6 5 4 3 2 1 "
     ]
    }
   ],
   "source": [
    "#print numbers from 10 to 1\n",
    "x = 10\n",
    "while(x>=1):\n",
    "   print(x, end = \" \")\n",
    "   x=x-1"
   ]
  },
  {
   "cell_type": "code",
   "execution_count": null,
   "metadata": {
    "colab": {
     "base_uri": "https://localhost:8080/"
    },
    "id": "3pOANk9Vqqg-",
    "outputId": "cca0d369-a019-40ff-b3fe-42da49a2272d"
   },
   "outputs": [
    {
     "name": "stdout",
     "output_type": "stream",
     "text": [
      "1.5 2.5 3.5 4.5 5.5 6.5 7.5 8.5 9.5 10.5 "
     ]
    }
   ],
   "source": [
    "#while loop ,print numbers from 1.5 to 10.5\n",
    "x =1.5\n",
    "while(x<=10.5):                      #float element cannot be print using for loop\n",
    "  print(x,end = \" \")\n",
    "  x=x+1"
   ]
  },
  {
   "cell_type": "code",
   "execution_count": null,
   "metadata": {
    "colab": {
     "base_uri": "https://localhost:8080/"
    },
    "id": "W3mUFixurv6M",
    "outputId": "16ea3eed-01e3-4cf7-817c-fc13fb3d9f03"
   },
   "outputs": [
    {
     "name": "stdout",
     "output_type": "stream",
     "text": [
      "Enter value of n = 5\n",
      "1\n",
      "3\n",
      "6\n",
      "10\n",
      "15\n",
      "sum =15\n"
     ]
    }
   ],
   "source": [
    "#print sum of all numbers from 1 to n\n",
    "n = input(\"Enter value of n =\")\n",
    "n=float(n)\n",
    "s=0\n",
    "x=1\n",
    "while(x<n+1):\n",
    "  s=s+x\n",
    "  x=x+1\n",
    "  print(s)\n",
    "print(\"sum ={}\".format(s))  "
   ]
  },
  {
   "cell_type": "code",
   "execution_count": null,
   "metadata": {
    "id": "Muw4an7y-_al"
   },
   "outputs": [],
   "source": [
    "#special programs with infinite loop result\n",
    "#1\n",
    "x=77\n",
    "y=7\n",
    "while(x>y):\n",
    "  y=x/y\n",
    "  print(x,\" \",y)\n",
    "#output:-77 11 \n",
    "         77  7 infinite times\n",
    "#2\n",
    "x=1\n",
    "while(X<=10)\n",
    "   print(x)\n",
    "x=x+1\n",
    "#output:- 1 infinite times           "
   ]
  },
  {
   "cell_type": "code",
   "execution_count": null,
   "metadata": {
    "colab": {
     "base_uri": "https://localhost:8080/"
    },
    "id": "MQ_dT70ULFJ0",
    "outputId": "8cf43049-b280-49fe-c516-43271bdd18a2"
   },
   "outputs": [
    {
     "name": "stdout",
     "output_type": "stream",
     "text": [
      "** 1\n",
      "** 2\n",
      "** 3\n",
      "** 4\n",
      "** 5\n",
      "** 6\n"
     ]
    }
   ],
   "source": [
    "#special while loop program\n",
    "x=0\n",
    "while(x<=5):\n",
    "  x=x+1\n",
    "  print('**',x)\n"
   ]
  },
  {
   "cell_type": "code",
   "execution_count": null,
   "metadata": {
    "colab": {
     "base_uri": "https://localhost:8080/"
    },
    "id": "fNPGgzByUows",
    "outputId": "469377ff-1c9e-447e-a3b0-9a4f08554236"
   },
   "outputs": [
    {
     "name": "stdout",
     "output_type": "stream",
     "text": [
      "5 8 11 14 17 "
     ]
    }
   ],
   "source": [
    "#question\n",
    "m=1\n",
    "n=10\n",
    "for x in range(m*5,n*2,m+2):\n",
    "  print(x,end=\" \")"
   ]
  },
  {
   "cell_type": "code",
   "execution_count": null,
   "metadata": {
    "colab": {
     "base_uri": "https://localhost:8080/"
    },
    "id": "eMyFj1Y2VT4N",
    "outputId": "0baa509c-ad47-45ed-9cff-99bc08bfc854"
   },
   "outputs": [
    {
     "name": "stdout",
     "output_type": "stream",
     "text": [
      "x1=2\n",
      "y1=2\n",
      "x2=4\n",
      "y2=4\n",
      "slope= 1.0\n"
     ]
    }
   ],
   "source": [
    "#write a program to write coordinates and find slope\n",
    "x1=input(\"x1=\")\n",
    "y1=input(\"y1=\")\n",
    "x2=input(\"x2=\")\n",
    "y2=input(\"y2=\")\n",
    "x1=float(x1)\n",
    "y1=float(y1)\n",
    "x2=float(x2)\n",
    "y2=float(y2)\n",
    "\n",
    "if (x1==x2):      #to compare two values in place of '=' ,'=='is used\n",
    "    print(\"m=infinite\")\n",
    "\n",
    "else:\n",
    "    m=(y2-y1)/(x2-x1)\n",
    "    print(\"slope=\",m)\n"
   ]
  },
  {
   "cell_type": "code",
   "execution_count": null,
   "metadata": {
    "colab": {
     "base_uri": "https://localhost:8080/"
    },
    "id": "tMc9uj2VlIAV",
    "outputId": "16505974-1927-45c4-f5ff-95a75d0332f3"
   },
   "outputs": [
    {
     "name": "stdout",
     "output_type": "stream",
     "text": [
      "enter marks =77\n",
      "C grade\n"
     ]
    }
   ],
   "source": [
    "#nested if\n",
    "marks=input(\"enter marks =\")\n",
    "marks=float(marks)\n",
    "\n",
    "if(marks >=95):\n",
    "  print(\"A grade\")\n",
    "\n",
    "elif(marks >=85):\n",
    "  print(\"B grade\")\n",
    "\n",
    "elif(marks >=75):\n",
    "  print(\"C grade\")\n",
    "\n",
    "else:\n",
    "  print(\"fail\")  "
   ]
  },
  {
   "cell_type": "code",
   "execution_count": null,
   "metadata": {
    "colab": {
     "base_uri": "https://localhost:8080/"
    },
    "id": "_vYgezMEpejA",
    "outputId": "1570dca0-36d7-4ab1-d08b-aa8c4e839ad4"
   },
   "outputs": [
    {
     "name": "stdout",
     "output_type": "stream",
     "text": [
      "<class 'list'>\n",
      "\n",
      "\n",
      "[10, 20, 30, 40, 50]\n",
      "\n",
      "\n",
      "10\n",
      "20\n",
      "30\n",
      "40\n",
      "50\n",
      "\n",
      "\n",
      "50\n",
      "40\n",
      "30\n",
      "20\n",
      "10\n",
      "[11, 20, 30, 40, 50]\n",
      "[10, 10, 20, 20, 30, 50, 40, 40]\n",
      "\n",
      "\n",
      "10\n",
      "10\n",
      "20\n",
      "20\n",
      "30\n",
      "50\n",
      "40\n",
      "40\n"
     ]
    }
   ],
   "source": [
    "# datatype = list\n",
    "a=[10,20,30,40,50]      #a is an object of class list\n",
    "\n",
    "print(type(a))\n",
    "print(\"\\n\")\n",
    "\n",
    "print(a)\n",
    "print(\"\\n\")\n",
    "\n",
    "print(a[0]) #positive indexing\n",
    "print(a[1])\n",
    "print(a[2])\n",
    "print(a[3])\n",
    "print(a[4])\n",
    "print(\"\\n\")\n",
    "\n",
    "print(a[-1])  #negative indexing\n",
    "print(a[-2])\n",
    "print(a[-3])\n",
    "print(a[-4])\n",
    "print(a[-5])\n",
    "\n",
    "a[0]=a[0]+1\n",
    "print(a)\n",
    "\n",
    "#repetition is allowed in list\n",
    "a=[10,10,20,20,30,50,40,40]\n",
    "print(a)\n",
    "print(\"\\n\")\n",
    "\n",
    "for x in a:  #another way to print list\n",
    "  print(x)"
   ]
  },
  {
   "cell_type": "code",
   "execution_count": null,
   "metadata": {
    "colab": {
     "base_uri": "https://localhost:8080/"
    },
    "id": "RzOiJDQR0zL8",
    "outputId": "86230a4e-63c4-4d6c-c9a0-53b02b048bc3"
   },
   "outputs": [
    {
     "name": "stdout",
     "output_type": "stream",
     "text": [
      "55\n",
      "68\n",
      "77\n"
     ]
    }
   ],
   "source": [
    "#Given a list of values,print only those values whose value is >50\n",
    "# a =[10,55,20,30,68,7,77,19]\n",
    "a =[10,55,20,30,68,7,77,19]\n",
    "for x in a:\n",
    "  if (x>=50):\n",
    "    print (x)"
   ]
  },
  {
   "cell_type": "code",
   "execution_count": null,
   "metadata": {
    "colab": {
     "base_uri": "https://localhost:8080/"
    },
    "id": "jqPZ_YR23Evr",
    "outputId": "1ee56b8d-e411-4f2b-a398-cf1b1ea0a8ac"
   },
   "outputs": [
    {
     "name": "stdout",
     "output_type": "stream",
     "text": [
      "9\n",
      "61\n",
      "29\n",
      "91\n",
      "51\n"
     ]
    }
   ],
   "source": [
    "#Given a list of values,increase value by 1 if x>50,else decrease by1\n",
    "# a =[10,60,30,90,50]\n",
    "a =[10,60,30,90,50]\n",
    "for x in a:\n",
    "  if(x>=50):\n",
    "     print(x+1)\n",
    "  else:\n",
    "     print(x-1)   "
   ]
  },
  {
   "cell_type": "code",
   "execution_count": null,
   "metadata": {
    "colab": {
     "base_uri": "https://localhost:8080/"
    },
    "id": "bTVb7N2e3qle",
    "outputId": "c0ba0c67-be9a-401a-a34f-2768089a239e"
   },
   "outputs": [
    {
     "name": "stdout",
     "output_type": "stream",
     "text": [
      "[9, 61, 29, 91, 51]\n"
     ]
    }
   ],
   "source": [
    "#above question can also be done as\n",
    "a =[10,60,30,90,50]\n",
    "i=0\n",
    "for x in a:\n",
    "  if(x>=50):\n",
    "     a[i]=x+1\n",
    "  else:\n",
    "     a[i]=x-1\n",
    "  i=i+1\n",
    "print(a)     "
   ]
  },
  {
   "cell_type": "code",
   "execution_count": null,
   "metadata": {
    "colab": {
     "base_uri": "https://localhost:8080/"
    },
    "id": "gUOzArol4LXg",
    "outputId": "0cbf8b95-6574-4557-e72b-9901b76de597"
   },
   "outputs": [
    {
     "name": "stdout",
     "output_type": "stream",
     "text": [
      "[1, 2, 3, 4, 5, 6, 7, 8, 9, 10, 11, 12, 13, 14, 15, 16, 17, 18, 19, 20, 21, 22, 23, 24, 25, 26, 27, 28, 29, 30, 31, 32, 33, 34, 35, 36, 37, 38, 39, 40, 41, 42, 43, 44, 45, 46, 47, 48, 49, 50, 51, 52, 53, 54, 55, 56, 57, 58, 59, 60, 61, 62, 63, 64, 65, 66, 67, 68, 69, 70, 71, 72, 73, 74, 75, 76, 77, 78, 79, 80, 81, 82, 83, 84, 85, 86, 87, 88, 89, 90, 91, 92, 93, 94, 95, 96, 97, 98, 99, 100]\n"
     ]
    }
   ],
   "source": [
    "#create a list that contains all values from 1 to 100\n",
    "a=list (range(1,101)) #here list is acting as a constructor\n",
    "print(a)"
   ]
  },
  {
   "cell_type": "code",
   "execution_count": null,
   "metadata": {
    "colab": {
     "base_uri": "https://localhost:8080/"
    },
    "id": "tskVd3TH-N8a",
    "outputId": "c66078d0-cb00-47d3-8047-1f6b90a0bd88"
   },
   "outputs": [
    {
     "name": "stdout",
     "output_type": "stream",
     "text": [
      "[1, 3, 5, 7, 9, 11, 13, 15, 17, 19, 21, 23, 25, 27, 29, 31, 33, 35, 37, 39, 41, 43, 45, 47, 49, 51, 53, 55, 57, 59, 61, 63, 65, 67, 69, 71, 73, 75, 77, 79, 81, 83, 85, 87, 89, 91, 93, 95, 97, 99]\n"
     ]
    }
   ],
   "source": [
    "#create a list from 1 to 100 but alternatively\n",
    "a=list(range(1,101,2))\n",
    "print(a)"
   ]
  },
  {
   "cell_type": "code",
   "execution_count": null,
   "metadata": {
    "colab": {
     "base_uri": "https://localhost:8080/"
    },
    "id": "y9lHXcsv_RxD",
    "outputId": "ec48e306-c4ff-4cde-abc2-6c53e5ff29fe"
   },
   "outputs": [
    {
     "name": "stdout",
     "output_type": "stream",
     "text": [
      "5\n"
     ]
    }
   ],
   "source": [
    "# len method\n",
    "c=[10,20,30,40,50]\n",
    "print(len(c))               #if length is 5 indexing from 0 to 4"
   ]
  },
  {
   "cell_type": "code",
   "execution_count": null,
   "metadata": {
    "colab": {
     "base_uri": "https://localhost:8080/"
    },
    "id": "23sdxT-tijNp",
    "outputId": "542a0841-809e-4917-ff45-80de44122b3c"
   },
   "outputs": [
    {
     "name": "stdout",
     "output_type": "stream",
     "text": [
      "4\n"
     ]
    }
   ],
   "source": [
    "#count function\n",
    "a=[10,20,30,10,40,70,10,10]\n",
    "print (a.count(10))"
   ]
  },
  {
   "cell_type": "code",
   "execution_count": null,
   "metadata": {
    "colab": {
     "base_uri": "https://localhost:8080/"
    },
    "id": "ERqFvJ5VBhOA",
    "outputId": "08c45a45-f2fa-452c-e757-55bdec204aed"
   },
   "outputs": [
    {
     "name": "stdout",
     "output_type": "stream",
     "text": [
      "[30, 40, 50, 60]\n",
      "[30, 40, 50, 60, 70]\n",
      "[10, 20, 30, 40, 50, 60]\n"
     ]
    }
   ],
   "source": [
    "#slicing ,print only 3o,40,50,60\n",
    "c=[10,20,30,40,50,60,70]\n",
    "print(c[2:6])           #final value is one more\n",
    "print(c[2:])\n",
    "print(c[:6])"
   ]
  },
  {
   "cell_type": "code",
   "execution_count": null,
   "metadata": {
    "colab": {
     "base_uri": "https://localhost:8080/"
    },
    "id": "84ek5JCUCXx5",
    "outputId": "c812cb20-1b40-4a59-d05b-2bc624c8ecfc"
   },
   "outputs": [
    {
     "name": "stdout",
     "output_type": "stream",
     "text": [
      "[10, 30, 50]\n"
     ]
    }
   ],
   "source": [
    "#a =[10,20,30,40,50,60],create a new list from 0 to end but alternatively\n",
    "i=0\n",
    "a =[10,20,30,40,50,60]\n",
    "print(a[::2])"
   ]
  },
  {
   "cell_type": "code",
   "execution_count": null,
   "metadata": {
    "colab": {
     "base_uri": "https://localhost:8080/"
    },
    "id": "shwzmE-kI4wb",
    "outputId": "83733988-5883-4a8b-b6ba-ef7b8c802604"
   },
   "outputs": [
    {
     "name": "stdout",
     "output_type": "stream",
     "text": [
      "[1, 6, 11, 16, 21, 26, 31, 36, 41, 46, 51, 56, 61, 66, 71, 76, 81, 86, 91, 96]\n"
     ]
    }
   ],
   "source": [
    "#having a list fro 1 to 100,print all values starting from index 0,ending at \n",
    "#end of the list with increase of 5\n",
    "a=list(range(1,101))\n",
    "print(a[::5])"
   ]
  },
  {
   "cell_type": "code",
   "execution_count": null,
   "metadata": {
    "colab": {
     "base_uri": "https://localhost:8080/"
    },
    "id": "g8stat68KRzd",
    "outputId": "905f649c-a483-4b06-d998-35185642bb81"
   },
   "outputs": [
    {
     "name": "stdout",
     "output_type": "stream",
     "text": [
      "[10, 20, 30, 45, 40, 50, 60]\n"
     ]
    }
   ],
   "source": [
    "#insert function\n",
    "a=[10,20,30,40,50,60]\n",
    "a.insert(3,45)\n",
    "print(a)"
   ]
  },
  {
   "cell_type": "code",
   "execution_count": null,
   "metadata": {
    "colab": {
     "base_uri": "https://localhost:8080/"
    },
    "id": "SHFiiK3SLhri",
    "outputId": "11ed240f-545c-46bc-a06f-780663b0ee35"
   },
   "outputs": [
    {
     "name": "stdout",
     "output_type": "stream",
     "text": [
      "[10, 20, 30, 40, 50, 60, 70]\n"
     ]
    }
   ],
   "source": [
    "#append function-adds new value at the last of function\n",
    "a=[10,20,30,40,50,60]\n",
    "a.append(70)\n",
    "print(a)"
   ]
  },
  {
   "cell_type": "code",
   "execution_count": null,
   "metadata": {
    "colab": {
     "base_uri": "https://localhost:8080/"
    },
    "id": "ett0z9aZL9Mc",
    "outputId": "9d40010f-9067-44a5-ddf8-d9d894b76caa"
   },
   "outputs": [
    {
     "name": "stdout",
     "output_type": "stream",
     "text": [
      "[10, 20, 30, 40, 50, 60, 70, 80, 90, 100]\n"
     ]
    }
   ],
   "source": [
    "#extend function-adds new values all at once in a list\n",
    "a=[10,20,30,40,50,60]\n",
    "z=[70,80,90,100]\n",
    "a.extend(z)\n",
    "print(a)"
   ]
  },
  {
   "cell_type": "code",
   "execution_count": null,
   "metadata": {
    "colab": {
     "base_uri": "https://localhost:8080/"
    },
    "id": "S91ZHKMnM8d6",
    "outputId": "3769251a-eb05-4b95-ea40-f6eade814bfc"
   },
   "outputs": [
    {
     "name": "stdout",
     "output_type": "stream",
     "text": [
      "[10, 20, 40, 50, 60]\n"
     ]
    }
   ],
   "source": [
    "#remove function\n",
    "a=[10,20,30,40,50,60]\n",
    "a.remove(30)\n",
    "print(a)"
   ]
  },
  {
   "cell_type": "code",
   "execution_count": null,
   "metadata": {
    "colab": {
     "base_uri": "https://localhost:8080/"
    },
    "id": "GB8_IfqJNSyW",
    "outputId": "c491bc32-9480-4e06-b070-7910c2175746"
   },
   "outputs": [
    {
     "name": "stdout",
     "output_type": "stream",
     "text": [
      "[10, 20, 30, 40]\n"
     ]
    }
   ],
   "source": [
    "#pop function-removes the last element only\n",
    "a=[10,20,30,40,50,60]\n",
    "a.pop()\n",
    "a.pop()\n",
    "print(a)"
   ]
  },
  {
   "cell_type": "code",
   "execution_count": null,
   "metadata": {
    "colab": {
     "base_uri": "https://localhost:8080/"
    },
    "id": "sAto9gV-Nm-F",
    "outputId": "bcfaf27a-6c46-41c1-9f75-882b0b211aef"
   },
   "outputs": [
    {
     "name": "stdout",
     "output_type": "stream",
     "text": [
      "[10, 20, 30, 40, 50, 60]\n",
      "[]\n"
     ]
    }
   ],
   "source": [
    "#clear function- removes all the element\n",
    "a=[10,20,30,40,50,60]\n",
    "print(a)\n",
    "a.clear()\n",
    "print(a)                #if del a is used all the list with a will be deleted from memory"
   ]
  },
  {
   "cell_type": "code",
   "execution_count": null,
   "metadata": {
    "colab": {
     "base_uri": "https://localhost:8080/"
    },
    "id": "zrfYylP0OIpQ",
    "outputId": "87789b2b-1802-49a1-81ab-9f46be8844b0"
   },
   "outputs": [
    {
     "name": "stdout",
     "output_type": "stream",
     "text": [
      "<class 'tuple'>\n",
      "\n",
      "\n",
      "(10, 20, 30, 40, 50)\n",
      "\n",
      "\n",
      "10\n",
      "20\n",
      "30\n",
      "40\n",
      "50\n",
      "\n",
      "\n",
      "50\n",
      "40\n",
      "30\n",
      "20\n",
      "10\n",
      "[10, 10, 20, 20, 30, 50, 40, 40]\n",
      "\n",
      "\n",
      "10\n",
      "10\n",
      "20\n",
      "20\n",
      "30\n",
      "50\n",
      "40\n",
      "40\n"
     ]
    }
   ],
   "source": [
    "# datatype = tuple\n",
    "a =(10,20,30,40,50)\n",
    "print(type(a))\n",
    "print(\"\\n\")\n",
    "\n",
    "print(a)\n",
    "print(\"\\n\")\n",
    "\n",
    "print(a[0]) #positive indexing\n",
    "print(a[1])\n",
    "print(a[2])\n",
    "print(a[3])\n",
    "print(a[4])\n",
    "print(\"\\n\")\n",
    "\n",
    "print(a[-1])  #negative indexing\n",
    "print(a[-2])\n",
    "print(a[-3])\n",
    "print(a[-4])\n",
    "print(a[-5])\n",
    "\n",
    "#a[0]=a[0]+1\n",
    "#print(a)              value inside a tuple cannot be changed,although a complete tuple can be changed\n",
    "\n",
    "#repetition is allowed in tuple\n",
    "a=[10,10,20,20,30,50,40,40]\n",
    "print(a)\n",
    "print(\"\\n\")\n",
    "\n",
    "for x in a:  #another way to print tuple\n",
    "  print(x)"
   ]
  },
  {
   "cell_type": "code",
   "execution_count": null,
   "metadata": {
    "colab": {
     "base_uri": "https://localhost:8080/"
    },
    "id": "m1tJxnKiW-eh",
    "outputId": "c3fad92c-bfd8-434e-8ea2-bd80e6046626"
   },
   "outputs": [
    {
     "name": "stdout",
     "output_type": "stream",
     "text": [
      "(1, 2, 3, 4, 5, 6, 7, 8, 9, 10, 11, 12, 13, 14, 15, 16, 17, 18, 19, 20, 21, 22, 23, 24, 25, 26, 27, 28, 29, 30, 31, 32, 33, 34, 35, 36, 37, 38, 39, 40, 41, 42, 43, 44, 45, 46, 47, 48, 49, 50, 51, 52, 53, 54, 55, 56, 57, 58, 59, 60, 61, 62, 63, 64, 65, 66, 67, 68, 69, 70, 71, 72, 73, 74, 75, 76, 77, 78, 79, 80, 81, 82, 83, 84, 85, 86, 87, 88, 89, 90, 91, 92, 93, 94, 95, 96, 97, 98, 99, 100)\n"
     ]
    }
   ],
   "source": [
    "#create a tuple for value 1 to 100\n",
    "a=tuple(range(1,101))\n",
    "print(a)"
   ]
  },
  {
   "cell_type": "code",
   "execution_count": null,
   "metadata": {
    "colab": {
     "base_uri": "https://localhost:8080/"
    },
    "id": "v3rJmAMdaXDC",
    "outputId": "9355d19b-b0b5-448e-e8fd-23fa2419be60"
   },
   "outputs": [
    {
     "name": "stdout",
     "output_type": "stream",
     "text": [
      "(10, 20, 30, 40, 50)\n"
     ]
    }
   ],
   "source": [
    "#list to tuple\n",
    "a=[10,20,30,40,50]\n",
    "b=tuple(a)\n",
    "print(b)"
   ]
  },
  {
   "cell_type": "code",
   "execution_count": null,
   "metadata": {
    "colab": {
     "base_uri": "https://localhost:8080/"
    },
    "id": "jYommacNdKci",
    "outputId": "e5f48f8e-932c-486b-a3d6-0a1db334947d"
   },
   "outputs": [
    {
     "name": "stdout",
     "output_type": "stream",
     "text": [
      "(10, 20, 100, 40, 50)\n"
     ]
    }
   ],
   "source": [
    "#replace a value in tuple\n",
    "a =(10,20,30,40,50)\n",
    "b=list(a)\n",
    "b[2]=100\n",
    "a=tuple(b)\n",
    "print(a)\n"
   ]
  },
  {
   "cell_type": "code",
   "execution_count": null,
   "metadata": {
    "colab": {
     "base_uri": "https://localhost:8080/"
    },
    "id": "33nnmPkvjbAf",
    "outputId": "c23ec805-3e59-42b4-826c-07f401b2a62e"
   },
   "outputs": [
    {
     "name": "stdout",
     "output_type": "stream",
     "text": [
      "(10, 30, 50, 70)\n"
     ]
    }
   ],
   "source": [
    "#slicing\n",
    "a=(10,20,30,40,50,60,70)\n",
    "#b=(a[2:5])\n",
    "#print(b)\n",
    "print(a[::2])"
   ]
  },
  {
   "cell_type": "code",
   "execution_count": null,
   "metadata": {
    "colab": {
     "base_uri": "https://localhost:8080/"
    },
    "id": "F6qhI3DbIo0b",
    "outputId": "700f3b28-f2b9-4604-9982-2d86f6460fc9"
   },
   "outputs": [
    {
     "name": "stdout",
     "output_type": "stream",
     "text": [
      "4\n"
     ]
    }
   ],
   "source": [
    "#insert,append,remove,pop,clear functions are not supported by tuple\n",
    "a=(10,20,30,10,40,70,10,10)\n",
    "print (a.count(10))"
   ]
  },
  {
   "cell_type": "code",
   "execution_count": null,
   "metadata": {
    "colab": {
     "base_uri": "https://localhost:8080/"
    },
    "id": "yMlIorP0iJg8",
    "outputId": "77f10548-3e38-4a29-ccf0-e8d5c96c7346"
   },
   "outputs": [
    {
     "name": "stdout",
     "output_type": "stream",
     "text": [
      "6\n"
     ]
    }
   ],
   "source": [
    "#index method\n",
    "a=(10,20,30,60,50,80,40)\n",
    "print(a.index(40))"
   ]
  },
  {
   "cell_type": "code",
   "execution_count": null,
   "metadata": {
    "colab": {
     "base_uri": "https://localhost:8080/"
    },
    "id": "UIwLE6dNjR59",
    "outputId": "468d7660-ad90-4657-ff0b-47d9c3edc67a"
   },
   "outputs": [
    {
     "name": "stdout",
     "output_type": "stream",
     "text": [
      "{40, 10, 50, 20, 30}\n",
      "{70, 10, 50, 30}\n"
     ]
    }
   ],
   "source": [
    "#set datatype, there are no indexing in set nor repetition is allowed,there is no order in set\n",
    "a={10,20,30,40,50}\n",
    "print(a)\n",
    "b={10,50,30,70,10,30,10}\n",
    "print(b)\n",
    "#values in set cannot be changed ,only new values can be added"
   ]
  },
  {
   "cell_type": "code",
   "execution_count": null,
   "metadata": {
    "colab": {
     "base_uri": "https://localhost:8080/"
    },
    "id": "aEcj4HXvtJT1",
    "outputId": "37da02b4-6012-4491-954f-e306f86af8f2"
   },
   "outputs": [
    {
     "name": "stdout",
     "output_type": "stream",
     "text": [
      "{1, 2, 3, 4, 5, 6, 7, 8, 9, 10, 11, 12, 13, 14, 15, 16, 17, 18, 19, 20, 21, 22, 23, 24, 25, 26, 27, 28, 29, 30, 31, 32, 33, 34, 35, 36, 37, 38, 39, 40, 41, 42, 43, 44, 45, 46, 47, 48, 49, 50, 51, 52, 53, 54, 55, 56, 57, 58, 59, 60, 61, 62, 63, 64, 65, 66, 67, 68, 69, 70, 71, 72, 73, 74, 75, 76, 77, 78, 79, 80, 81, 82, 83, 84, 85, 86, 87, 88, 89, 90, 91, 92, 93, 94, 95, 96, 97, 98, 99, 100}\n"
     ]
    }
   ],
   "source": [
    "#create a set having all values from 1 to 100\n",
    "a=set(range(1,101))\n",
    "print(a)"
   ]
  },
  {
   "cell_type": "code",
   "execution_count": null,
   "metadata": {
    "colab": {
     "base_uri": "https://localhost:8080/"
    },
    "id": "-cEZh1UmuSQ6",
    "outputId": "549c9eea-809c-4522-c24f-d69410cfa4a5"
   },
   "outputs": [
    {
     "name": "stdout",
     "output_type": "stream",
     "text": [
      "{40, 10, 50, 20, 60, 30}\n"
     ]
    }
   ],
   "source": [
    "#create a set from a list\n",
    "a=[10,20,30,40,50,60]\n",
    "b=set(a)\n",
    "print(b)"
   ]
  },
  {
   "cell_type": "code",
   "execution_count": null,
   "metadata": {
    "colab": {
     "base_uri": "https://localhost:8080/"
    },
    "id": "OICm9pONu8eB",
    "outputId": "7c7ba9e8-ca6b-4a6a-c139-81089dc0854f"
   },
   "outputs": [
    {
     "name": "stdout",
     "output_type": "stream",
     "text": [
      "{100, 40, 10, 20, 90, 60, 30}\n",
      "{100, 40, 10, 90, 60, 30}\n"
     ]
    },
    {
     "data": {
      "text/plain": [
       "True"
      ]
     },
     "execution_count": 19,
     "metadata": {},
     "output_type": "execute_result"
    }
   ],
   "source": [
    "#in operator\n",
    "a={10,20,40,60,90,30}\n",
    "a.add(100)\n",
    "print(a)\n",
    "\n",
    "a.remove (20)          #discard can be used in place of remove as it will not give an error if we try removing a value which is not there in set\n",
    "print(a)\n",
    "100 in a"
   ]
  },
  {
   "cell_type": "code",
   "execution_count": null,
   "metadata": {
    "colab": {
     "base_uri": "https://localhost:8080/"
    },
    "id": "MOjQ5wHPvkUU",
    "outputId": "95efc469-07f3-4fbc-c02a-ad791b711c13"
   },
   "outputs": [
    {
     "name": "stdout",
     "output_type": "stream",
     "text": [
      "{50, 20, 40, 10, 30}\n"
     ]
    }
   ],
   "source": [
    "#union and intersection\n",
    "a={10,20,30}\n",
    "b={30,40,50}\n",
    "a=a.union(b)          #in place of union update can be used too, | <- this can be used for union\n",
    "print(a)"
   ]
  },
  {
   "cell_type": "code",
   "execution_count": null,
   "metadata": {
    "colab": {
     "base_uri": "https://localhost:8080/"
    },
    "id": "WEiygCK0yT2Q",
    "outputId": "55992c69-7cd3-4beb-d499-74e596d70b35"
   },
   "outputs": [
    {
     "name": "stdout",
     "output_type": "stream",
     "text": [
      "{30}\n"
     ]
    }
   ],
   "source": [
    "a={10,20,30}\n",
    "b={30,40,50}\n",
    "a=a.intersection(b)            # & <- this can be used in place of intersection\n",
    "print(a)"
   ]
  },
  {
   "cell_type": "code",
   "execution_count": null,
   "metadata": {
    "colab": {
     "base_uri": "https://localhost:8080/"
    },
    "id": "x06ivoCNydbZ",
    "outputId": "d9e2c16f-91a0-4c5c-a007-ccb51e185d50"
   },
   "outputs": [
    {
     "name": "stdout",
     "output_type": "stream",
     "text": [
      "{10, 20}\n",
      "{40, 50}\n",
      "{40, 10, 50, 20}\n"
     ]
    }
   ],
   "source": [
    "#difeerence between ,symmetric difference between sets\n",
    "a={10,20,30}\n",
    "b={30,40,50}\n",
    "\n",
    "c= a-b\n",
    "d= b-a\n",
    "e = a.symmetric_difference(b)\n",
    "print(c)\n",
    "print(d)\n",
    "print(e)"
   ]
  },
  {
   "cell_type": "code",
   "execution_count": null,
   "metadata": {
    "colab": {
     "base_uri": "https://localhost:8080/"
    },
    "id": "c8jnG9Kqz2L8",
    "outputId": "dc35d9d9-6760-46b0-eb3a-ad6a8e07b0ce"
   },
   "outputs": [
    {
     "name": "stdout",
     "output_type": "stream",
     "text": [
      "{'roll number': 102, 'name': 'Dharmanshu', 'marks': 100}\n"
     ]
    }
   ],
   "source": [
    "# datatype = dictionary -> collection of (key : value) pairs\n",
    "a={\"roll number\":100, \"name\":\"Dharmanshu\", \"marks\":100}\n",
    "a[\"roll number\"]=102\n",
    "print(a)"
   ]
  },
  {
   "cell_type": "code",
   "execution_count": null,
   "metadata": {
    "colab": {
     "base_uri": "https://localhost:8080/"
    },
    "id": "xlyOOudA3UDh",
    "outputId": "499f0600-d262-443c-f434-9dacb81d5587"
   },
   "outputs": [
    {
     "name": "stdout",
     "output_type": "stream",
     "text": [
      "enter value of n = 7\n",
      "[1, 2, 3, 4, 5, 6, 7]\n"
     ]
    }
   ],
   "source": [
    "#question- create a list which contains value from 1 to n\n",
    "n = int(input(\"enter value of n =\"))\n",
    "a=list(range(1,n+1))\n",
    "print(a)"
   ]
  }
 ],
 "metadata": {
  "colab": {
   "collapsed_sections": [],
   "name": "fds1.ipynb",
   "provenance": []
  },
  "kernelspec": {
   "display_name": "Python 3 (ipykernel)",
   "language": "python",
   "name": "python3"
  },
  "language_info": {
   "codemirror_mode": {
    "name": "ipython",
    "version": 3
   },
   "file_extension": ".py",
   "mimetype": "text/x-python",
   "name": "python",
   "nbconvert_exporter": "python",
   "pygments_lexer": "ipython3",
   "version": "3.9.7"
  }
 },
 "nbformat": 4,
 "nbformat_minor": 1
}
